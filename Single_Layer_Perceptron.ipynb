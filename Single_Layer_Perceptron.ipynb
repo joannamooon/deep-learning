{
  "nbformat": 4,
  "nbformat_minor": 0,
  "metadata": {
    "colab": {
      "provenance": []
    },
    "kernelspec": {
      "name": "python3",
      "display_name": "Python 3"
    },
    "language_info": {
      "name": "python"
    }
  },
  "cells": [
    {
      "cell_type": "code",
      "execution_count": 1,
      "metadata": {
        "id": "nfLYpQAYnPYy"
      },
      "outputs": [],
      "source": [
        "from tensorflow import keras\n",
        "import matplotlib.pyplot as plt\n",
        "import numpy as np\n",
        "from sklearn.model_selection import cross_validate, train_test_split\n",
        "from sklearn.linear_model import SGDClassifier"
      ]
    },
    {
      "cell_type": "code",
      "source": [
        "(x_train, y_train), (x_test, y_test) = keras.datasets.fashion_mnist.load_data()"
      ],
      "metadata": {
        "colab": {
          "base_uri": "https://localhost:8080/"
        },
        "id": "Vxci1nUeneZ8",
        "outputId": "63262a92-6f94-4ff8-f8bd-03b69a917a9c"
      },
      "execution_count": 2,
      "outputs": [
        {
          "output_type": "stream",
          "name": "stdout",
          "text": [
            "Downloading data from https://storage.googleapis.com/tensorflow/tf-keras-datasets/train-labels-idx1-ubyte.gz\n",
            "29515/29515 [==============================] - 0s 0us/step\n",
            "Downloading data from https://storage.googleapis.com/tensorflow/tf-keras-datasets/train-images-idx3-ubyte.gz\n",
            "26421880/26421880 [==============================] - 0s 0us/step\n",
            "Downloading data from https://storage.googleapis.com/tensorflow/tf-keras-datasets/t10k-labels-idx1-ubyte.gz\n",
            "5148/5148 [==============================] - 0s 0us/step\n",
            "Downloading data from https://storage.googleapis.com/tensorflow/tf-keras-datasets/t10k-images-idx3-ubyte.gz\n",
            "4422102/4422102 [==============================] - 0s 0us/step\n"
          ]
        }
      ]
    },
    {
      "cell_type": "code",
      "source": [
        "print(x_train.shape, y_train.shape)"
      ],
      "metadata": {
        "colab": {
          "base_uri": "https://localhost:8080/"
        },
        "id": "varKAjEKnq_o",
        "outputId": "10d2a0a6-114b-455d-88d3-f6542bc4a2ec"
      },
      "execution_count": 3,
      "outputs": [
        {
          "output_type": "stream",
          "name": "stdout",
          "text": [
            "(60000, 28, 28) (60000,)\n"
          ]
        }
      ]
    },
    {
      "cell_type": "markdown",
      "source": [
        "- training set is made of 60,000 images\n",
        "- each image size is 28 x 28\n",
        "- the target is a one-dimensional array with 60000 elements."
      ],
      "metadata": {
        "id": "svdZKEs0nyg3"
      }
    },
    {
      "cell_type": "code",
      "source": [
        "print(x_test.shape, y_test.shape)"
      ],
      "metadata": {
        "colab": {
          "base_uri": "https://localhost:8080/"
        },
        "id": "Vz4RacLZnv9l",
        "outputId": "84a3f331-303f-482f-de73-30ee14a16b1d"
      },
      "execution_count": 4,
      "outputs": [
        {
          "output_type": "stream",
          "name": "stdout",
          "text": [
            "(10000, 28, 28) (10000,)\n"
          ]
        }
      ]
    },
    {
      "cell_type": "code",
      "source": [
        "np.unique(x_test)"
      ],
      "metadata": {
        "colab": {
          "base_uri": "https://localhost:8080/"
        },
        "id": "yNCRHAhroBL2",
        "outputId": "df12075f-8792-4356-fe49-7cba4e56cb86"
      },
      "execution_count": 5,
      "outputs": [
        {
          "output_type": "execute_result",
          "data": {
            "text/plain": [
              "array([  0,   1,   2,   3,   4,   5,   6,   7,   8,   9,  10,  11,  12,\n",
              "        13,  14,  15,  16,  17,  18,  19,  20,  21,  22,  23,  24,  25,\n",
              "        26,  27,  28,  29,  30,  31,  32,  33,  34,  35,  36,  37,  38,\n",
              "        39,  40,  41,  42,  43,  44,  45,  46,  47,  48,  49,  50,  51,\n",
              "        52,  53,  54,  55,  56,  57,  58,  59,  60,  61,  62,  63,  64,\n",
              "        65,  66,  67,  68,  69,  70,  71,  72,  73,  74,  75,  76,  77,\n",
              "        78,  79,  80,  81,  82,  83,  84,  85,  86,  87,  88,  89,  90,\n",
              "        91,  92,  93,  94,  95,  96,  97,  98,  99, 100, 101, 102, 103,\n",
              "       104, 105, 106, 107, 108, 109, 110, 111, 112, 113, 114, 115, 116,\n",
              "       117, 118, 119, 120, 121, 122, 123, 124, 125, 126, 127, 128, 129,\n",
              "       130, 131, 132, 133, 134, 135, 136, 137, 138, 139, 140, 141, 142,\n",
              "       143, 144, 145, 146, 147, 148, 149, 150, 151, 152, 153, 154, 155,\n",
              "       156, 157, 158, 159, 160, 161, 162, 163, 164, 165, 166, 167, 168,\n",
              "       169, 170, 171, 172, 173, 174, 175, 176, 177, 178, 179, 180, 181,\n",
              "       182, 183, 184, 185, 186, 187, 188, 189, 190, 191, 192, 193, 194,\n",
              "       195, 196, 197, 198, 199, 200, 201, 202, 203, 204, 205, 206, 207,\n",
              "       208, 209, 210, 211, 212, 213, 214, 215, 216, 217, 218, 219, 220,\n",
              "       221, 222, 223, 224, 225, 226, 227, 228, 229, 230, 231, 232, 233,\n",
              "       234, 235, 236, 237, 238, 239, 240, 241, 242, 243, 244, 245, 246,\n",
              "       247, 248, 249, 250, 251, 252, 253, 254, 255], dtype=uint8)"
            ]
          },
          "metadata": {},
          "execution_count": 5
        }
      ]
    },
    {
      "cell_type": "code",
      "source": [
        "# check the sample images\n",
        "\n",
        "fig, axs = plt.subplots(1, 10, figsize=(15, 15))\n",
        "for i in range(10):\n",
        "    axs[i].imshow(x_train[i], cmap='gray_r')\n",
        "    #axs[i].set_title(y_train[i])\n",
        "    axs[i].axis('off')\n",
        "\n",
        "plt.show()"
      ],
      "metadata": {
        "colab": {
          "base_uri": "https://localhost:8080/",
          "height": 139
        },
        "id": "nSSBQ7fToDTX",
        "outputId": "65e14250-171a-41ec-917d-d26c479c56b1"
      },
      "execution_count": 6,
      "outputs": [
        {
          "output_type": "display_data",
          "data": {
            "text/plain": [
              "<Figure size 1500x1500 with 10 Axes>"
            ],
            "image/png": "[encoded data removed]"
          },
          "metadata": {}
        }
      ]
    },
    {
      "cell_type": "code",
      "source": [
        "# check dependent variables\n",
        "print([y_train[i] for i in range(10)])"
      ],
      "metadata": {
        "colab": {
          "base_uri": "https://localhost:8080/"
        },
        "id": "nzxncmjXoG7s",
        "outputId": "f7901427-7a77-4bb7-e798-4758313e961b"
      },
      "execution_count": 7,
      "outputs": [
        {
          "output_type": "stream",
          "name": "stdout",
          "text": [
            "[9, 0, 0, 3, 0, 2, 7, 2, 5, 5]\n"
          ]
        }
      ]
    },
    {
      "cell_type": "markdown",
      "source": [
        "- 0: t-shirt\n",
        "- 1: Pants\n",
        "- 2: sweater\n",
        "- 3: Dress\n",
        "- 4: coat\n",
        "- 5: sandals\n",
        "- 6: Shirt\n",
        "- 7: Sneakers\n",
        "- 8: bag\n",
        "- 9 : ankle boots"
      ],
      "metadata": {
        "id": "shb66AlUohdD"
      }
    },
    {
      "cell_type": "code",
      "source": [
        "# check number of data of each label -> check if we have to stratify\n",
        "print(np.unique(y_train, return_counts=True))"
      ],
      "metadata": {
        "colab": {
          "base_uri": "https://localhost:8080/"
        },
        "id": "G7g2T7XOoaUS",
        "outputId": "a4ac9de7-7785-4582-ec4e-46350de54857"
      },
      "execution_count": 8,
      "outputs": [
        {
          "output_type": "stream",
          "name": "stdout",
          "text": [
            "(array([0, 1, 2, 3, 4, 5, 6, 7, 8, 9], dtype=uint8), array([6000, 6000, 6000, 6000, 6000, 6000, 6000, 6000, 6000, 6000]))\n"
          ]
        }
      ]
    },
    {
      "cell_type": "markdown",
      "source": [
        "- each label has 6000 images each -> all good!\n",
        "\n"
      ],
      "metadata": {
        "id": "ZHiz4EHwoyQL"
      }
    },
    {
      "cell_type": "markdown",
      "source": [
        "# Fashion item classification using stochastic gradient descent"
      ],
      "metadata": {
        "id": "0JzfT27Vo5T8"
      }
    },
    {
      "cell_type": "code",
      "source": [
        "# Since SGDClassifier cannot handle 2-dimensional input, convert the data to a 1-dimensional array\n",
        "scaled_train = x_train / 255 # Each pixel has an integer value between 0 and 255\n",
        "scaled_train = scaled_train.reshape(-1, 28 * 28)"
      ],
      "metadata": {
        "id": "A189LV_BoudB"
      },
      "execution_count": 9,
      "outputs": []
    },
    {
      "cell_type": "code",
      "source": [
        "print(scaled_train.shape)"
      ],
      "metadata": {
        "colab": {
          "base_uri": "https://localhost:8080/"
        },
        "id": "_i0PpVCyvVxm",
        "outputId": "49f49e0c-e5c0-45ec-8bfc-e34870a6e27a"
      },
      "execution_count": 10,
      "outputs": [
        {
          "output_type": "stream",
          "name": "stdout",
          "text": [
            "(60000, 784)\n"
          ]
        }
      ]
    },
    {
      "cell_type": "code",
      "source": [
        "sgd = SGDClassifier(loss=\"log_loss\", max_iter=5, random_state=14)\n",
        "scores = cross_validate(sgd, scaled_train, y_train, n_jobs=-1)\n",
        "print(np.mean(scores['test_score']))"
      ],
      "metadata": {
        "colab": {
          "base_uri": "https://localhost:8080/"
        },
        "id": "VVUQdzf1vZAC",
        "outputId": "8598d779-3d86-4942-9eae-3035aff5945d"
      },
      "execution_count": 11,
      "outputs": [
        {
          "output_type": "stream",
          "name": "stderr",
          "text": [
            "/usr/local/lib/python3.10/dist-packages/joblib/externals/loky/backend/fork_exec.py:38: RuntimeWarning: os.fork() was called. os.fork() is incompatible with multithreaded code, and JAX is multithreaded, so this will likely lead to a deadlock.\n",
            "  pid = os.fork()\n",
            "/usr/local/lib/python3.10/dist-packages/joblib/externals/loky/backend/fork_exec.py:38: RuntimeWarning: os.fork() was called. os.fork() is incompatible with multithreaded code, and JAX is multithreaded, so this will likely lead to a deadlock.\n",
            "  pid = os.fork()\n"
          ]
        },
        {
          "output_type": "stream",
          "name": "stdout",
          "text": [
            "0.7893333333333332\n"
          ]
        }
      ]
    },
    {
      "cell_type": "markdown",
      "source": [
        "# Neural Network\n",
        "- Logistic regression equation\n",
        "    - z_T-shirt = w1 * pixel1 + w2 * pixel2 + ...... + w784 * pixel784 + b\n",
        "    - z_pants = w1' * pixel1 + w2' * pixel2 + ...... + w784' * pixel784 + b'"
      ],
      "metadata": {
        "id": "zbyu9wr4xO1l"
      }
    },
    {
      "cell_type": "markdown",
      "source": [
        "- Since the softmax of logistic regression is used in place of the activation function, probability values ​​for 10 labels from z1 to z10 are calculated.\n",
        "    - Because the class is predicted based on neurons from z1 to z10, it is called the output layer in the sense that it creates the final value of the neural network.\n",
        "    \n",
        "- In neural networks, the unit that calculates the z value is called a neuron.\n",
        "    - Currently, \"unit\" is used instead of neuron.\n",
        "    \n",
        "- x_1 to x_784 is called the input layer\n",
        "    - The input layer is the pixel value itself and does not perform any special calculations.\n",
        "    \n",
        "- neural networks began with the neuron model proposed by Warren McCulloch and Walter Pitts in 1943.\n",
        "    - These are called McCullough-Fitz neurons.\n",
        "    - Artificial neurons are inspired by biological neurons.\n",
        "    \n",
        "    1. Biological neurons receive signals from dendrites and collect them in the cell body\n",
        "    2. When the signal reaches a certain threshold, the signal is transmitted to other cells through the axon."
      ],
      "metadata": {
        "id": "esIaRq-UyuMo"
      }
    },
    {
      "cell_type": "code",
      "source": [
        "# Divide only the verification set using the data created above\n",
        "scaled_train, scaled_val, y_train, y_val = train_test_split(scaled_train, y_train,\n",
        "                                                            test_size = 0.2, random_state = 14,\n",
        "                                                            stratify = y_train)"
      ],
      "metadata": {
        "id": "Mn2wmcTJyt2v"
      },
      "execution_count": 12,
      "outputs": []
    },
    {
      "cell_type": "code",
      "source": [
        "print(scaled_train.shape, y_train.shape)"
      ],
      "metadata": {
        "colab": {
          "base_uri": "https://localhost:8080/"
        },
        "id": "cKT5x4X9wQmP",
        "outputId": "b5114164-d3f3-40b6-ed57-bb58e8e5521b"
      },
      "execution_count": 13,
      "outputs": [
        {
          "output_type": "stream",
          "name": "stdout",
          "text": [
            "(48000, 784) (48000,)\n"
          ]
        }
      ]
    },
    {
      "cell_type": "code",
      "source": [
        "print(scaled_val.shape, y_val.shape)"
      ],
      "metadata": {
        "colab": {
          "base_uri": "https://localhost:8080/"
        },
        "id": "ixdqHcm813Jy",
        "outputId": "23b10f69-a66c-4843-b888-6e46ff3dde5e"
      },
      "execution_count": 14,
      "outputs": [
        {
          "output_type": "stream",
          "name": "stdout",
          "text": [
            "(12000, 784) (12000,)\n"
          ]
        }
      ]
    },
    {
      "cell_type": "markdown",
      "source": [
        "# Dense Layer\n",
        "\n",
        "- A layer where all 784 pixels and 10 output layer units are connected\n",
        "- Because both units are connected, it is also called a fully connected layer."
      ],
      "metadata": {
        "id": "Udl6TXjj2cz9"
      }
    },
    {
      "cell_type": "code",
      "source": [
        "# Parameters of the Dense class = number of units, activation function to apply to the output, size of the input\n",
        "dense = keras.layers.Dense(10, activation=\"softmax\", input_shape=(784,))"
      ],
      "metadata": {
        "id": "c3_aDpt716Pf"
      },
      "execution_count": 15,
      "outputs": []
    },
    {
      "cell_type": "markdown",
      "source": [
        "- Number of units = 10\n",
        "    - Because there are 10 labels\n",
        "    \n",
        "- Activation function = softmax\n",
        "    - Use softmax to convert the values ​​output from 10 units into probability values.\n",
        "    - If it is a binary classification problem, it is also possible to set the activation function to a sigmoid function.\n",
        "        - activation = \"sigmoid\"\n",
        "        \n",
        "- input size = (784,)\n",
        "    - Specify with a tuple how many inputs each of the 10 units receives.\n",
        "    - In the current example, input (784,) because 784 pixel values ​​are received in one dimension."
      ],
      "metadata": {
        "id": "IMXedUWywK-p"
      }
    },
    {
      "cell_type": "code",
      "source": [
        "# Create a neural network model\n",
        "model = keras.Sequential()\n",
        "# Sequential -> linear stack of layers into a Model"
      ],
      "metadata": {
        "id": "FwCpT2OS3Y9X"
      },
      "execution_count": 17,
      "outputs": []
    },
    {
      "cell_type": "code",
      "source": [
        "# add the dense layer to our model\n",
        "model.add(dense)"
      ],
      "metadata": {
        "id": "AiM6B--nxFZ4"
      },
      "execution_count": 18,
      "outputs": []
    },
    {
      "cell_type": "code",
      "source": [
        "# check our model structure\n",
        "model.summary()"
      ],
      "metadata": {
        "colab": {
          "base_uri": "https://localhost:8080/"
        },
        "id": "UEFMTb6YyHEO",
        "outputId": "e4710da3-26c4-4541-e45a-df4259a2a3c9"
      },
      "execution_count": 19,
      "outputs": [
        {
          "output_type": "stream",
          "name": "stdout",
          "text": [
            "Model: \"sequential_1\"\n",
            "_________________________________________________________________\n",
            " Layer (type)                Output Shape              Param #   \n",
            "=================================================================\n",
            " dense (Dense)               (None, 10)                7850      \n",
            "                                                                 \n",
            "=================================================================\n",
            "Total params: 7850 (30.66 KB)\n",
            "Trainable params: 7850 (30.66 KB)\n",
            "Non-trainable params: 0 (0.00 Byte)\n",
            "_________________________________________________________________\n"
          ]
        }
      ]
    },
    {
      "cell_type": "code",
      "source": [
        "# Set up the learning process to train the model\n",
        "model.compile(loss = \"sparse_categorical_crossentropy\", metrics = [\"accuracy\"])"
      ],
      "metadata": {
        "id": "Db8lmaFhyPx2"
      },
      "execution_count": 21,
      "outputs": []
    },
    {
      "cell_type": "markdown",
      "source": [
        "- loss = \"sparse_categorical_crossentropy\"\n",
        "    - sparse_categorical_crossentropy: loss function mainly used in multi-classification\n",
        "        - A loss function that makes the probability of a correct answer close to 1 and the probability of an incorrect answer close to 0.\n",
        "        - sparse categorical cross-entropy loss expects the target labels to be integers indicating the class indices directly\n",
        "    - In binary classification, binary_crossentropy is used.\n",
        "    \n",
        "- metrics = [\"accuracy\"]\n",
        "    - Keras outputs the loss value every epoch by default when the model is trained.\n",
        "    - Specify the indicator accuracy to display accuracy in addition to loss value."
      ],
      "metadata": {
        "id": "Vah3Fj2sy4YP"
      }
    },
    {
      "cell_type": "code",
      "source": [
        "# train the model\n",
        "model.fit(scaled_train, y_train, epochs=5)"
      ],
      "metadata": {
        "colab": {
          "base_uri": "https://localhost:8080/"
        },
        "id": "qsc_HIYLy4KF",
        "outputId": "83c7662d-c381-45dc-eb24-c604319c2aba"
      },
      "execution_count": 23,
      "outputs": [
        {
          "output_type": "stream",
          "name": "stdout",
          "text": [
            "Epoch 1/5\n",
            "1500/1500 [==============================] - 3s 2ms/step - loss: 0.6111 - accuracy: 0.7902\n",
            "Epoch 2/5\n",
            "1500/1500 [==============================] - 5s 3ms/step - loss: 0.4781 - accuracy: 0.8386\n",
            "Epoch 3/5\n",
            "1500/1500 [==============================] - 4s 3ms/step - loss: 0.4530 - accuracy: 0.8464\n",
            "Epoch 4/5\n",
            "1500/1500 [==============================] - 4s 2ms/step - loss: 0.4399 - accuracy: 0.8500\n",
            "Epoch 5/5\n",
            "1500/1500 [==============================] - 3s 2ms/step - loss: 0.4319 - accuracy: 0.8545\n"
          ]
        },
        {
          "output_type": "execute_result",
          "data": {
            "text/plain": [
              "<keras.src.callbacks.History at 0x7a1de7862bc0>"
            ]
          },
          "metadata": {},
          "execution_count": 23
        }
      ]
    },
    {
      "cell_type": "code",
      "source": [
        "# accuracy with validation data\n",
        "model.evaluate(scaled_val, y_val)"
      ],
      "metadata": {
        "colab": {
          "base_uri": "https://localhost:8080/"
        },
        "id": "11pj9j4eygYj",
        "outputId": "241bde76-b4b1-4472-a2a7-f9df9fc06bba"
      },
      "execution_count": 24,
      "outputs": [
        {
          "output_type": "stream",
          "name": "stdout",
          "text": [
            "375/375 [==============================] - 1s 2ms/step - loss: 0.4330 - accuracy: 0.8519\n"
          ]
        },
        {
          "output_type": "execute_result",
          "data": {
            "text/plain": [
              "[0.4329933822154999, 0.8519166707992554]"
            ]
          },
          "metadata": {},
          "execution_count": 24
        }
      ]
    },
    {
      "cell_type": "code",
      "source": [],
      "metadata": {
        "id": "DU5cp_wF1jw0"
      },
      "execution_count": null,
      "outputs": []
    }
  ]
}